{
  "nbformat": 4,
  "nbformat_minor": 0,
  "metadata": {
    "colab": {
      "name": "Collaborative_filtering.ipynb",
      "provenance": [],
      "collapsed_sections": [],
      "include_colab_link": true
    },
    "kernelspec": {
      "display_name": "Python 3",
      "name": "python3"
    },
    "language_info": {
      "name": "python"
    }
  },
  "cells": [
    {
      "cell_type": "markdown",
      "metadata": {
        "id": "view-in-github",
        "colab_type": "text"
      },
      "source": [
        "<a href=\"https://colab.research.google.com/github/hauduong05/Movie_Recommendation/blob/main/Collaborative_filtering.ipynb\" target=\"_parent\"><img src=\"https://colab.research.google.com/assets/colab-badge.svg\" alt=\"Open In Colab\"/></a>"
      ]
    },
    {
      "cell_type": "code",
      "metadata": {
        "colab": {
          "base_uri": "https://localhost:8080/"
        },
        "id": "1ErAS-76ktlc",
        "outputId": "e0b31ee4-4c84-4d61-ff60-1d2024faa877"
      },
      "source": [
        "from google.colab import drive\n",
        "drive.mount('/content/gdrive')"
      ],
      "execution_count": null,
      "outputs": [
        {
          "output_type": "stream",
          "text": [
            "Mounted at /content/gdrive\n"
          ],
          "name": "stdout"
        }
      ]
    },
    {
      "cell_type": "markdown",
      "metadata": {
        "id": "5GVDQicO0Ajv"
      },
      "source": [
        "# Import library"
      ]
    },
    {
      "cell_type": "code",
      "metadata": {
        "id": "DxqS1ODgf2sS"
      },
      "source": [
        "import pandas as pd\n",
        "import numpy as np\n",
        "import matplotlib.pyplot as plt\n",
        "from matplotlib.pyplot import figure\n",
        "from sklearn.model_selection import train_test_split\n",
        "from scipy.sparse import csr_matrix\n",
        "from sklearn.neighbors import NearestNeighbors\n",
        "from sklearn.metrics.pairwise import cosine_similarity"
      ],
      "execution_count": null,
      "outputs": []
    },
    {
      "cell_type": "markdown",
      "metadata": {
        "id": "9SHVfbh-0SOB"
      },
      "source": [
        "# Load data"
      ]
    },
    {
      "cell_type": "code",
      "metadata": {
        "id": "-3ASYpn531yr"
      },
      "source": [
        "movies = pd.read_csv('/content/gdrive/MyDrive/movie/movies.csv', \n",
        "                     usecols=['movieId', 'title'], \n",
        "                     dtype={'movieId': 'int32', 'title': 'str'})\n",
        "ratings = pd.read_csv('/content/gdrive/MyDrive/movie/ratings.csv', \n",
        "                      usecols=['userId', 'movieId', 'rating'], \n",
        "                      dtype={'userId': 'int32', 'movieId': 'int32', 'rating': 'float32'})\n",
        "\n",
        "# number of rating for every movie\n",
        "nb_user_voted = ratings.groupby('movieId')['rating'].agg('count')\n",
        "# number of rating given by every user\n",
        "nb_movie_vote = ratings.groupby('userId')['rating'].agg('count')"
      ],
      "execution_count": null,
      "outputs": []
    },
    {
      "cell_type": "code",
      "metadata": {
        "colab": {
          "base_uri": "https://localhost:8080/",
          "height": 417
        },
        "id": "0W627RkRHJ-C",
        "outputId": "9a4fb7e6-000d-442e-c210-1669fcb07573"
      },
      "source": [
        "movies"
      ],
      "execution_count": null,
      "outputs": [
        {
          "output_type": "execute_result",
          "data": {
            "text/html": [
              "<div>\n",
              "<style scoped>\n",
              "    .dataframe tbody tr th:only-of-type {\n",
              "        vertical-align: middle;\n",
              "    }\n",
              "\n",
              "    .dataframe tbody tr th {\n",
              "        vertical-align: top;\n",
              "    }\n",
              "\n",
              "    .dataframe thead th {\n",
              "        text-align: right;\n",
              "    }\n",
              "</style>\n",
              "<table border=\"1\" class=\"dataframe\">\n",
              "  <thead>\n",
              "    <tr style=\"text-align: right;\">\n",
              "      <th></th>\n",
              "      <th>movieId</th>\n",
              "      <th>title</th>\n",
              "    </tr>\n",
              "  </thead>\n",
              "  <tbody>\n",
              "    <tr>\n",
              "      <th>0</th>\n",
              "      <td>1</td>\n",
              "      <td>Toy Story (1995)</td>\n",
              "    </tr>\n",
              "    <tr>\n",
              "      <th>1</th>\n",
              "      <td>2</td>\n",
              "      <td>Jumanji (1995)</td>\n",
              "    </tr>\n",
              "    <tr>\n",
              "      <th>2</th>\n",
              "      <td>3</td>\n",
              "      <td>Grumpier Old Men (1995)</td>\n",
              "    </tr>\n",
              "    <tr>\n",
              "      <th>3</th>\n",
              "      <td>4</td>\n",
              "      <td>Waiting to Exhale (1995)</td>\n",
              "    </tr>\n",
              "    <tr>\n",
              "      <th>4</th>\n",
              "      <td>5</td>\n",
              "      <td>Father of the Bride Part II (1995)</td>\n",
              "    </tr>\n",
              "    <tr>\n",
              "      <th>...</th>\n",
              "      <td>...</td>\n",
              "      <td>...</td>\n",
              "    </tr>\n",
              "    <tr>\n",
              "      <th>62418</th>\n",
              "      <td>209157</td>\n",
              "      <td>We (2018)</td>\n",
              "    </tr>\n",
              "    <tr>\n",
              "      <th>62419</th>\n",
              "      <td>209159</td>\n",
              "      <td>Window of the Soul (2001)</td>\n",
              "    </tr>\n",
              "    <tr>\n",
              "      <th>62420</th>\n",
              "      <td>209163</td>\n",
              "      <td>Bad Poems (2018)</td>\n",
              "    </tr>\n",
              "    <tr>\n",
              "      <th>62421</th>\n",
              "      <td>209169</td>\n",
              "      <td>A Girl Thing (2001)</td>\n",
              "    </tr>\n",
              "    <tr>\n",
              "      <th>62422</th>\n",
              "      <td>209171</td>\n",
              "      <td>Women of Devil's Island (1962)</td>\n",
              "    </tr>\n",
              "  </tbody>\n",
              "</table>\n",
              "<p>62423 rows × 2 columns</p>\n",
              "</div>"
            ],
            "text/plain": [
              "       movieId                               title\n",
              "0            1                    Toy Story (1995)\n",
              "1            2                      Jumanji (1995)\n",
              "2            3             Grumpier Old Men (1995)\n",
              "3            4            Waiting to Exhale (1995)\n",
              "4            5  Father of the Bride Part II (1995)\n",
              "...        ...                                 ...\n",
              "62418   209157                           We (2018)\n",
              "62419   209159           Window of the Soul (2001)\n",
              "62420   209163                    Bad Poems (2018)\n",
              "62421   209169                 A Girl Thing (2001)\n",
              "62422   209171      Women of Devil's Island (1962)\n",
              "\n",
              "[62423 rows x 2 columns]"
            ]
          },
          "metadata": {
            "tags": []
          },
          "execution_count": 5
        }
      ]
    },
    {
      "cell_type": "code",
      "metadata": {
        "colab": {
          "base_uri": "https://localhost:8080/",
          "height": 417
        },
        "id": "mJGJFzSpNbsv",
        "outputId": "bce9b297-8f00-4241-e4b4-1e42310ae700"
      },
      "source": [
        "ratings"
      ],
      "execution_count": null,
      "outputs": [
        {
          "output_type": "execute_result",
          "data": {
            "text/html": [
              "<div>\n",
              "<style scoped>\n",
              "    .dataframe tbody tr th:only-of-type {\n",
              "        vertical-align: middle;\n",
              "    }\n",
              "\n",
              "    .dataframe tbody tr th {\n",
              "        vertical-align: top;\n",
              "    }\n",
              "\n",
              "    .dataframe thead th {\n",
              "        text-align: right;\n",
              "    }\n",
              "</style>\n",
              "<table border=\"1\" class=\"dataframe\">\n",
              "  <thead>\n",
              "    <tr style=\"text-align: right;\">\n",
              "      <th></th>\n",
              "      <th>userId</th>\n",
              "      <th>movieId</th>\n",
              "      <th>rating</th>\n",
              "    </tr>\n",
              "  </thead>\n",
              "  <tbody>\n",
              "    <tr>\n",
              "      <th>0</th>\n",
              "      <td>1</td>\n",
              "      <td>296</td>\n",
              "      <td>5.0</td>\n",
              "    </tr>\n",
              "    <tr>\n",
              "      <th>1</th>\n",
              "      <td>1</td>\n",
              "      <td>306</td>\n",
              "      <td>3.5</td>\n",
              "    </tr>\n",
              "    <tr>\n",
              "      <th>2</th>\n",
              "      <td>1</td>\n",
              "      <td>307</td>\n",
              "      <td>5.0</td>\n",
              "    </tr>\n",
              "    <tr>\n",
              "      <th>3</th>\n",
              "      <td>1</td>\n",
              "      <td>665</td>\n",
              "      <td>5.0</td>\n",
              "    </tr>\n",
              "    <tr>\n",
              "      <th>4</th>\n",
              "      <td>1</td>\n",
              "      <td>899</td>\n",
              "      <td>3.5</td>\n",
              "    </tr>\n",
              "    <tr>\n",
              "      <th>...</th>\n",
              "      <td>...</td>\n",
              "      <td>...</td>\n",
              "      <td>...</td>\n",
              "    </tr>\n",
              "    <tr>\n",
              "      <th>25000090</th>\n",
              "      <td>162541</td>\n",
              "      <td>50872</td>\n",
              "      <td>4.5</td>\n",
              "    </tr>\n",
              "    <tr>\n",
              "      <th>25000091</th>\n",
              "      <td>162541</td>\n",
              "      <td>55768</td>\n",
              "      <td>2.5</td>\n",
              "    </tr>\n",
              "    <tr>\n",
              "      <th>25000092</th>\n",
              "      <td>162541</td>\n",
              "      <td>56176</td>\n",
              "      <td>2.0</td>\n",
              "    </tr>\n",
              "    <tr>\n",
              "      <th>25000093</th>\n",
              "      <td>162541</td>\n",
              "      <td>58559</td>\n",
              "      <td>4.0</td>\n",
              "    </tr>\n",
              "    <tr>\n",
              "      <th>25000094</th>\n",
              "      <td>162541</td>\n",
              "      <td>63876</td>\n",
              "      <td>5.0</td>\n",
              "    </tr>\n",
              "  </tbody>\n",
              "</table>\n",
              "<p>25000095 rows × 3 columns</p>\n",
              "</div>"
            ],
            "text/plain": [
              "          userId  movieId  rating\n",
              "0              1      296     5.0\n",
              "1              1      306     3.5\n",
              "2              1      307     5.0\n",
              "3              1      665     5.0\n",
              "4              1      899     3.5\n",
              "...          ...      ...     ...\n",
              "25000090  162541    50872     4.5\n",
              "25000091  162541    55768     2.5\n",
              "25000092  162541    56176     2.0\n",
              "25000093  162541    58559     4.0\n",
              "25000094  162541    63876     5.0\n",
              "\n",
              "[25000095 rows x 3 columns]"
            ]
          },
          "metadata": {
            "tags": []
          },
          "execution_count": 6
        }
      ]
    },
    {
      "cell_type": "markdown",
      "metadata": {
        "id": "AwGzUnWP0iV8"
      },
      "source": [
        "# Data analysis"
      ]
    },
    {
      "cell_type": "code",
      "metadata": {
        "colab": {
          "base_uri": "https://localhost:8080/",
          "height": 669
        },
        "id": "2JhdtPqE5x1x",
        "outputId": "10b19f7e-f333-4eea-d3dc-d0201c1287e4"
      },
      "source": [
        "# plot rating frequency of all movies\n",
        "ax = nb_user_voted \\\n",
        "    .sort_values(ascending=False) \\\n",
        "    .reset_index(drop=True) \\\n",
        "    .plot(\n",
        "        figsize=(12, 8),\n",
        "        title='Rating Frequency of All Movies',\n",
        "        fontsize=12\n",
        "    )\n",
        "ax.set_xlabel(\"movie Id\")\n",
        "ax.set_ylabel(\"number of ratings\")\n",
        "\n",
        "nb_user_voted.quantile(np.arange(1, 0.6, -0.05))"
      ],
      "execution_count": null,
      "outputs": [
        {
          "output_type": "execute_result",
          "data": {
            "text/plain": [
              "1.00    81491.0\n",
              "0.95     1503.4\n",
              "0.90      413.0\n",
              "0.85      152.0\n",
              "0.80       68.0\n",
              "0.75       36.0\n",
              "0.70       22.0\n",
              "0.65       14.0\n",
              "Name: rating, dtype: float64"
            ]
          },
          "metadata": {
            "tags": []
          },
          "execution_count": 5
        },
        {
          "output_type": "display_data",
          "data": {
            "image/png": "[encoded data removed]",
            "text/plain": [
              "<Figure size 864x576 with 1 Axes>"
            ]
          },
          "metadata": {
            "tags": [],
            "needs_background": "light"
          }
        }
      ]
    },
    {
      "cell_type": "code",
      "metadata": {
        "colab": {
          "base_uri": "https://localhost:8080/",
          "height": 771
        },
        "id": "vHgwilLR7H4Z",
        "outputId": "3c771bf6-7c54-43bb-9f01-9338bcd6bd9b"
      },
      "source": [
        "# plot rating frequency of all movies\n",
        "ax = nb_movie_vote \\\n",
        "    .sort_values(ascending=False) \\\n",
        "    .reset_index(drop=True) \\\n",
        "    .plot(\n",
        "        figsize=(12, 8),\n",
        "        title='Rating Frequency of All Users',\n",
        "        fontsize=12\n",
        "    )\n",
        "ax.set_xlabel(\"user Id\")\n",
        "# ax.axhline(y=threshold, color='r')\n",
        "ax.set_ylabel(\"number of ratings\")\n",
        "\n",
        "\n",
        "nb_movie_vote.quantile(np.arange(1, 0.3, -0.05))"
      ],
      "execution_count": null,
      "outputs": [
        {
          "output_type": "execute_result",
          "data": {
            "text/plain": [
              "1.00    32202.0\n",
              "0.95      554.0\n",
              "0.90      353.0\n",
              "0.85      258.0\n",
              "0.80      202.0\n",
              "0.75      162.0\n",
              "0.70      134.0\n",
              "0.65      112.0\n",
              "0.60       97.0\n",
              "0.55       82.0\n",
              "0.50       71.0\n",
              "0.45       61.0\n",
              "0.40       53.0\n",
              "0.35       47.0\n",
              "Name: rating, dtype: float64"
            ]
          },
          "metadata": {
            "tags": []
          },
          "execution_count": 6
        },
        {
          "output_type": "display_data",
          "data": {
            "image/png": "[encoded data removed]",
            "text/plain": [
              "<Figure size 864x576 with 1 Axes>"
            ]
          },
          "metadata": {
            "tags": [],
            "needs_background": "light"
          }
        }
      ]
    },
    {
      "cell_type": "markdown",
      "metadata": {
        "id": "FfQivzvv0vx3"
      },
      "source": [
        "# Filter data"
      ]
    },
    {
      "cell_type": "markdown",
      "metadata": {
        "id": "ma2H5wta2Ckh"
      },
      "source": [
        "Only keep movies with number of rating > 50"
      ]
    },
    {
      "cell_type": "code",
      "metadata": {
        "id": "lAmOVmMivvrO"
      },
      "source": [
        "threshold = 50\n",
        "popular_movies = list(set(nb_user_voted[nb_user_voted > threshold].index))\n",
        "ratings = ratings[ratings['movieId'].isin(popular_movies)]"
      ],
      "execution_count": null,
      "outputs": []
    },
    {
      "cell_type": "markdown",
      "metadata": {
        "id": "cjnptNVk2X7M"
      },
      "source": [
        "Only keep users with number of voting > 50"
      ]
    },
    {
      "cell_type": "code",
      "metadata": {
        "id": "1gpAC8Ekvy89"
      },
      "source": [
        "threshold = 50\n",
        "active_users = list(set(nb_movie_vote[nb_movie_vote > threshold].index))\n",
        "ratings = ratings[ratings['userId'].isin(active_users)]"
      ],
      "execution_count": null,
      "outputs": []
    },
    {
      "cell_type": "markdown",
      "metadata": {
        "id": "KUTb9ZoJ02fV"
      },
      "source": [
        "# Train model"
      ]
    },
    {
      "cell_type": "markdown",
      "metadata": {
        "id": "XZeOFdkh2lpX"
      },
      "source": [
        "Prepare train - test set"
      ]
    },
    {
      "cell_type": "code",
      "metadata": {
        "id": "merb1coQ4_yi"
      },
      "source": [
        "train, test = train_test_split(ratings, test_size=0.01, shuffle=True, random_state = 21)\n",
        "\n",
        "train = train.sort_values('userId')\n",
        "train_index_by_user = train.copy().set_index('userId')\n",
        "test = test.sort_values('userId')\n",
        "\n",
        "\n",
        "train_users = list(train.groupby('userId')['rating'].agg('count').index)\n",
        "train_items = list(train.groupby('movieId')['rating'].agg('count').index)\n",
        "n_train_users = len(train_users)\n",
        "n_train_movies = len(train_items)\n",
        "n_train = train.shape[0]\n",
        "train_userId = train['userId'].values\n",
        "train_movieId = train['movieId'].values\n"
      ],
      "execution_count": null,
      "outputs": []
    },
    {
      "cell_type": "markdown",
      "metadata": {
        "id": "jBXB0TAn2uno"
      },
      "source": [
        "Calculate means\n",
        "\n"
      ]
    },
    {
      "cell_type": "code",
      "metadata": {
        "id": "wp32Uole2sxR"
      },
      "source": [
        "temp_means = train.groupby('movieId')['rating'].transform('mean')\n",
        "train_rate = train['rating']-temp_means\n",
        "means = pd.DataFrame({\"movieId\": train.movieId, \"mean\":temp_means}).drop_duplicates().set_index(\"movieId\")\n"
      ],
      "execution_count": null,
      "outputs": []
    },
    {
      "cell_type": "markdown",
      "metadata": {
        "id": "oizN7VOY222p"
      },
      "source": [
        "Create sparse matrix"
      ]
    },
    {
      "cell_type": "code",
      "metadata": {
        "id": "JcAPciPtD0UE"
      },
      "source": [
        "dict1 = dict(zip(train_users, [i for i in range(n_train_users)]))\n",
        "dict2 = dict(zip(train_items, [i for i in range(n_train_movies)]))\n",
        "userId_trans = []\n",
        "movieId_trans = []\n",
        "\n",
        "for i in range(n_train):\n",
        "  userId_trans.append(dict1[train_userId[i]])\n",
        "for i in range(n_train):\n",
        "  movieId_trans.append(dict2[train_movieId[i]])\n",
        "\n",
        "csr_dt = csr_matrix((train_rate, (movieId_trans, userId_trans)), (n_train_movies, n_train_users))"
      ],
      "execution_count": null,
      "outputs": []
    },
    {
      "cell_type": "markdown",
      "metadata": {
        "id": "uUpPAydo26M8"
      },
      "source": [
        "Calculate cosine-similarity matrix"
      ]
    },
    {
      "cell_type": "code",
      "metadata": {
        "id": "NGrg3JAQcn0m"
      },
      "source": [
        "list_key = list(dict2.keys())\n",
        "list_value = list(dict2.values())\n",
        "\n",
        "corr_matrix = cosine_similarity(csr_dt, csr_dt)"
      ],
      "execution_count": null,
      "outputs": []
    },
    {
      "cell_type": "markdown",
      "metadata": {
        "id": "bvAptBf20_TZ"
      },
      "source": [
        "# Make recommendation"
      ]
    },
    {
      "cell_type": "markdown",
      "metadata": {
        "id": "RFLflpnW1Hay"
      },
      "source": [
        "## Make movie recommendation by movie name"
      ]
    },
    {
      "cell_type": "code",
      "metadata": {
        "id": "xYFHYYfut2N0"
      },
      "source": [
        "def get_movie_recommendation(movie_name):\n",
        "\n",
        "  n_movie_get_recommend = 10\n",
        "  movie_list = movies[movies['title'].str.contains(movie_name, na=False)]\n",
        "\n",
        "  if len(movie_list):\n",
        "    movie_idx = [0]\n",
        "    for i in range(len(movie_list)):\n",
        "      id = int(movie_list.iloc[i]['movieId'])\n",
        "      if id in train_items:\n",
        "        movie_idx[0] = id\n",
        "        break\n",
        "  \n",
        "    movie_idx_trans = dict2[movie_idx[0]]\n",
        "    sim = corr_matrix[movie_idx_trans]\n",
        "    sim_idx = np.argsort(sim)[-(n_movie_get_recommend+1):]\n",
        "    nn = sim[sim_idx]\n",
        "    recommend = list(zip(sim_idx, nn))\n",
        "    recommend.reverse()\n",
        "    recommend = recommend[1:]\n",
        "\n",
        "    recommend_frame = []\n",
        "    for val in recommend:\n",
        "      pos = list_value.index(val[0])\n",
        "      movie_idx = list_key[pos]\n",
        "      idx = movies[movies['movieId'] == movie_idx].index\n",
        "      recommend_frame.append({'Title' : movies.iloc[idx]['title'].values[0], 'Similarity' : val[1]})\n",
        "\n",
        "    df = pd.DataFrame(recommend_frame, index=range(1, n_movie_get_recommend+1))\n",
        "    return df\n",
        "  else:\n",
        "    return 'No movies found. Please check your movie input'"
      ],
      "execution_count": null,
      "outputs": []
    },
    {
      "cell_type": "code",
      "metadata": {
        "colab": {
          "base_uri": "https://localhost:8080/",
          "height": 359
        },
        "id": "3WUvGx-7ygqE",
        "outputId": "b5f20f74-e9b9-4af4-a0fa-b404cd0add15"
      },
      "source": [
        "get_movie_recommendation('Toy Story')"
      ],
      "execution_count": null,
      "outputs": [
        {
          "output_type": "execute_result",
          "data": {
            "text/html": [
              "<div>\n",
              "<style scoped>\n",
              "    .dataframe tbody tr th:only-of-type {\n",
              "        vertical-align: middle;\n",
              "    }\n",
              "\n",
              "    .dataframe tbody tr th {\n",
              "        vertical-align: top;\n",
              "    }\n",
              "\n",
              "    .dataframe thead th {\n",
              "        text-align: right;\n",
              "    }\n",
              "</style>\n",
              "<table border=\"1\" class=\"dataframe\">\n",
              "  <thead>\n",
              "    <tr style=\"text-align: right;\">\n",
              "      <th></th>\n",
              "      <th>Title</th>\n",
              "      <th>Similarity</th>\n",
              "    </tr>\n",
              "  </thead>\n",
              "  <tbody>\n",
              "    <tr>\n",
              "      <th>1</th>\n",
              "      <td>Toy Story 2 (1999)</td>\n",
              "      <td>0.405366</td>\n",
              "    </tr>\n",
              "    <tr>\n",
              "      <th>2</th>\n",
              "      <td>Monsters, Inc. (2001)</td>\n",
              "      <td>0.290770</td>\n",
              "    </tr>\n",
              "    <tr>\n",
              "      <th>3</th>\n",
              "      <td>Finding Nemo (2003)</td>\n",
              "      <td>0.269808</td>\n",
              "    </tr>\n",
              "    <tr>\n",
              "      <th>4</th>\n",
              "      <td>Aladdin (1992)</td>\n",
              "      <td>0.266527</td>\n",
              "    </tr>\n",
              "    <tr>\n",
              "      <th>5</th>\n",
              "      <td>Lion King, The (1994)</td>\n",
              "      <td>0.264515</td>\n",
              "    </tr>\n",
              "    <tr>\n",
              "      <th>6</th>\n",
              "      <td>Bug's Life, A (1998)</td>\n",
              "      <td>0.256979</td>\n",
              "    </tr>\n",
              "    <tr>\n",
              "      <th>7</th>\n",
              "      <td>Toy Story 3 (2010)</td>\n",
              "      <td>0.245399</td>\n",
              "    </tr>\n",
              "    <tr>\n",
              "      <th>8</th>\n",
              "      <td>Shrek (2001)</td>\n",
              "      <td>0.230446</td>\n",
              "    </tr>\n",
              "    <tr>\n",
              "      <th>9</th>\n",
              "      <td>Incredibles, The (2004)</td>\n",
              "      <td>0.228499</td>\n",
              "    </tr>\n",
              "    <tr>\n",
              "      <th>10</th>\n",
              "      <td>Beauty and the Beast (1991)</td>\n",
              "      <td>0.227117</td>\n",
              "    </tr>\n",
              "  </tbody>\n",
              "</table>\n",
              "</div>"
            ],
            "text/plain": [
              "                          Title  Similarity\n",
              "1            Toy Story 2 (1999)    0.405366\n",
              "2         Monsters, Inc. (2001)    0.290770\n",
              "3           Finding Nemo (2003)    0.269808\n",
              "4                Aladdin (1992)    0.266527\n",
              "5         Lion King, The (1994)    0.264515\n",
              "6          Bug's Life, A (1998)    0.256979\n",
              "7            Toy Story 3 (2010)    0.245399\n",
              "8                  Shrek (2001)    0.230446\n",
              "9       Incredibles, The (2004)    0.228499\n",
              "10  Beauty and the Beast (1991)    0.227117"
            ]
          },
          "metadata": {
            "tags": []
          },
          "execution_count": 14
        }
      ]
    },
    {
      "cell_type": "markdown",
      "metadata": {
        "id": "ucdxgR3a1OUT"
      },
      "source": [
        "## Make recommendation for user"
      ]
    },
    {
      "cell_type": "code",
      "metadata": {
        "id": "zQVn63z80PZ3"
      },
      "source": [
        "def predict(u, i, knn=5):\n",
        "  u_rate_movie = train_index_by_user.loc[u]['movieId']\n",
        "  u_rate_movie_trans = []\n",
        "  for j in u_rate_movie:\n",
        "    u_rate_movie_trans.append(dict2[j])\n",
        "  u_rate_movie_trans = np.array(u_rate_movie_trans)\n",
        "  u_trans = dict1[u]\n",
        "  i_trans = dict2[i]\n",
        "  sml = corr_matrix[i_trans][u_rate_movie_trans]\n",
        "  nn = np.argsort(sml)[-knn:]\n",
        "  nearest = sml[nn]\n",
        "  r = csr_dt[u_rate_movie_trans[nn], u_trans].toarray()[0]\n",
        "  eps = 1e-8\n",
        "  pred = (r*nearest).sum() /(np.abs(nearest).sum() + eps) + means.loc[i].values[0]\n",
        "  pred = min(pred, 5.0)\n",
        "  pred = max(pred, 0.5)\n",
        "  return pred"
      ],
      "execution_count": null,
      "outputs": []
    },
    {
      "cell_type": "code",
      "metadata": {
        "id": "1Gs53LBsvf_8"
      },
      "source": [
        "def recommendation_system_for_users(u):\n",
        "\n",
        "  n_movies_recommend = 20\n",
        "  movie_rated_by_u = ratings[ratings['userId'] == u]['movieId'].values\n",
        "  \n",
        "  if len(movie_rated_by_u):\n",
        "    movieId = ratings.groupby('movieId')['rating'].agg('count').index\n",
        "    movie_no_rate = np.array(list(set(movieId) - set(movie_rated_by_u)))\n",
        "    n_movie_no_rate = len(movie_no_rate)\n",
        "    rate_pred = np.zeros((n_movie_no_rate, ))\n",
        "    \n",
        "    for i in range(n_movie_no_rate):\n",
        "      rate_pred[i] = predict(u, movie_no_rate[i])\n",
        "    nns = np.argsort(rate_pred)[-n_movies_recommend:]\n",
        "    rec = list(zip(movie_no_rate[nns], rate_pred[nns]))\n",
        "    rec.reverse()\n",
        "\n",
        "    recommend_sys_frame = []\n",
        "    for val in rec:\n",
        "      movie_idx = movies[movies['movieId'] == val[0]].index\n",
        "      recommend_sys_frame.append({'Title' : movies.iloc[movie_idx]['title'].values[0], 'Rate_predict' : val[1]})\n",
        "\n",
        "    df = pd.DataFrame(recommend_sys_frame, index = range(1, n_movies_recommend+1))\n",
        "    return df\n",
        "  else:\n",
        "    return \"User doesn't exist. Please check your input\""
      ],
      "execution_count": null,
      "outputs": []
    },
    {
      "cell_type": "code",
      "metadata": {
        "id": "NIH7yFYN07ZW",
        "colab": {
          "base_uri": "https://localhost:8080/",
          "height": 669
        },
        "outputId": "37447df4-9cb8-473e-aa6b-10ad9b3387c1"
      },
      "source": [
        "recommendation_system_for_users(1)"
      ],
      "execution_count": null,
      "outputs": [
        {
          "output_type": "execute_result",
          "data": {
            "text/html": [
              "<div>\n",
              "<style scoped>\n",
              "    .dataframe tbody tr th:only-of-type {\n",
              "        vertical-align: middle;\n",
              "    }\n",
              "\n",
              "    .dataframe tbody tr th {\n",
              "        vertical-align: top;\n",
              "    }\n",
              "\n",
              "    .dataframe thead th {\n",
              "        text-align: right;\n",
              "    }\n",
              "</style>\n",
              "<table border=\"1\" class=\"dataframe\">\n",
              "  <thead>\n",
              "    <tr style=\"text-align: right;\">\n",
              "      <th></th>\n",
              "      <th>Title</th>\n",
              "      <th>Rate_predict</th>\n",
              "    </tr>\n",
              "  </thead>\n",
              "  <tbody>\n",
              "    <tr>\n",
              "      <th>1</th>\n",
              "      <td>Won't You Be My Neighbor? (2018)</td>\n",
              "      <td>5.0</td>\n",
              "    </tr>\n",
              "    <tr>\n",
              "      <th>2</th>\n",
              "      <td>Destiny in Space (1994)</td>\n",
              "      <td>5.0</td>\n",
              "    </tr>\n",
              "    <tr>\n",
              "      <th>3</th>\n",
              "      <td>400 Blows, The (Les quatre cents coups) (1959)</td>\n",
              "      <td>5.0</td>\n",
              "    </tr>\n",
              "    <tr>\n",
              "      <th>4</th>\n",
              "      <td>Sicario (2015)</td>\n",
              "      <td>5.0</td>\n",
              "    </tr>\n",
              "    <tr>\n",
              "      <th>5</th>\n",
              "      <td>Gandhi (1982)</td>\n",
              "      <td>5.0</td>\n",
              "    </tr>\n",
              "    <tr>\n",
              "      <th>6</th>\n",
              "      <td>Get Out (2017)</td>\n",
              "      <td>5.0</td>\n",
              "    </tr>\n",
              "    <tr>\n",
              "      <th>7</th>\n",
              "      <td>Fast Runner, The (Atanarjuat) (2001)</td>\n",
              "      <td>5.0</td>\n",
              "    </tr>\n",
              "    <tr>\n",
              "      <th>8</th>\n",
              "      <td>American Beauty (1999)</td>\n",
              "      <td>5.0</td>\n",
              "    </tr>\n",
              "    <tr>\n",
              "      <th>9</th>\n",
              "      <td>Youth of the Beast (Yaju no seishun) (1963)</td>\n",
              "      <td>5.0</td>\n",
              "    </tr>\n",
              "    <tr>\n",
              "      <th>10</th>\n",
              "      <td>This Is Spinal Tap (1984)</td>\n",
              "      <td>5.0</td>\n",
              "    </tr>\n",
              "    <tr>\n",
              "      <th>11</th>\n",
              "      <td>Nowhere in Africa (Nirgendwo in Afrika) (2001)</td>\n",
              "      <td>5.0</td>\n",
              "    </tr>\n",
              "    <tr>\n",
              "      <th>12</th>\n",
              "      <td>Mystery Train (1989)</td>\n",
              "      <td>5.0</td>\n",
              "    </tr>\n",
              "    <tr>\n",
              "      <th>13</th>\n",
              "      <td>Lone Wolf and Cub: Baby Cart in Peril (Kozure ...</td>\n",
              "      <td>5.0</td>\n",
              "    </tr>\n",
              "    <tr>\n",
              "      <th>14</th>\n",
              "      <td>Christmas Story, A (1983)</td>\n",
              "      <td>5.0</td>\n",
              "    </tr>\n",
              "    <tr>\n",
              "      <th>15</th>\n",
              "      <td>Whiplash (2013)</td>\n",
              "      <td>5.0</td>\n",
              "    </tr>\n",
              "    <tr>\n",
              "      <th>16</th>\n",
              "      <td>Last Days, The (1998)</td>\n",
              "      <td>5.0</td>\n",
              "    </tr>\n",
              "    <tr>\n",
              "      <th>17</th>\n",
              "      <td>Lady Jane (1986)</td>\n",
              "      <td>5.0</td>\n",
              "    </tr>\n",
              "    <tr>\n",
              "      <th>18</th>\n",
              "      <td>Man Who Laughs, The (1928)</td>\n",
              "      <td>5.0</td>\n",
              "    </tr>\n",
              "    <tr>\n",
              "      <th>19</th>\n",
              "      <td>Night and the City (1950)</td>\n",
              "      <td>5.0</td>\n",
              "    </tr>\n",
              "    <tr>\n",
              "      <th>20</th>\n",
              "      <td>Manchurian Candidate, The (1962)</td>\n",
              "      <td>5.0</td>\n",
              "    </tr>\n",
              "  </tbody>\n",
              "</table>\n",
              "</div>"
            ],
            "text/plain": [
              "                                                Title  Rate_predict\n",
              "1                    Won't You Be My Neighbor? (2018)           5.0\n",
              "2                             Destiny in Space (1994)           5.0\n",
              "3      400 Blows, The (Les quatre cents coups) (1959)           5.0\n",
              "4                                      Sicario (2015)           5.0\n",
              "5                                       Gandhi (1982)           5.0\n",
              "6                                      Get Out (2017)           5.0\n",
              "7                Fast Runner, The (Atanarjuat) (2001)           5.0\n",
              "8                              American Beauty (1999)           5.0\n",
              "9         Youth of the Beast (Yaju no seishun) (1963)           5.0\n",
              "10                          This Is Spinal Tap (1984)           5.0\n",
              "11     Nowhere in Africa (Nirgendwo in Afrika) (2001)           5.0\n",
              "12                               Mystery Train (1989)           5.0\n",
              "13  Lone Wolf and Cub: Baby Cart in Peril (Kozure ...           5.0\n",
              "14                          Christmas Story, A (1983)           5.0\n",
              "15                                    Whiplash (2013)           5.0\n",
              "16                              Last Days, The (1998)           5.0\n",
              "17                                   Lady Jane (1986)           5.0\n",
              "18                         Man Who Laughs, The (1928)           5.0\n",
              "19                          Night and the City (1950)           5.0\n",
              "20                   Manchurian Candidate, The (1962)           5.0"
            ]
          },
          "metadata": {
            "tags": []
          },
          "execution_count": 17
        }
      ]
    },
    {
      "cell_type": "markdown",
      "metadata": {
        "id": "LlFjgDA21gwL"
      },
      "source": [
        "# Test"
      ]
    },
    {
      "cell_type": "markdown",
      "metadata": {
        "id": "fhED-2So3OEx"
      },
      "source": [
        "## Run test for test-set (knn=2)\n",
        "\n"
      ]
    },
    {
      "cell_type": "code",
      "metadata": {
        "colab": {
          "base_uri": "https://localhost:8080/",
          "height": 419
        },
        "id": "L1edTE_9_u92",
        "outputId": "b1b81415-cd88-48a0-8d1c-4ea65869c5d6"
      },
      "source": [
        "test['pred'] = test.apply(lambda row : predict(row.userId, row.movieId, knn=2), axis = 1)\n",
        "test"
      ],
      "execution_count": null,
      "outputs": [
        {
          "output_type": "execute_result",
          "data": {
            "text/html": [
              "<div>\n",
              "<style scoped>\n",
              "    .dataframe tbody tr th:only-of-type {\n",
              "        vertical-align: middle;\n",
              "    }\n",
              "\n",
              "    .dataframe tbody tr th {\n",
              "        vertical-align: top;\n",
              "    }\n",
              "\n",
              "    .dataframe thead th {\n",
              "        text-align: right;\n",
              "    }\n",
              "</style>\n",
              "<table border=\"1\" class=\"dataframe\">\n",
              "  <thead>\n",
              "    <tr style=\"text-align: right;\">\n",
              "      <th></th>\n",
              "      <th>userId</th>\n",
              "      <th>movieId</th>\n",
              "      <th>rating</th>\n",
              "      <th>pred</th>\n",
              "    </tr>\n",
              "  </thead>\n",
              "  <tbody>\n",
              "    <tr>\n",
              "      <th>56</th>\n",
              "      <td>1</td>\n",
              "      <td>8154</td>\n",
              "      <td>5.0</td>\n",
              "      <td>3.815021</td>\n",
              "    </tr>\n",
              "    <tr>\n",
              "      <th>83</th>\n",
              "      <td>2</td>\n",
              "      <td>364</td>\n",
              "      <td>4.5</td>\n",
              "      <td>3.422144</td>\n",
              "    </tr>\n",
              "    <tr>\n",
              "      <th>209</th>\n",
              "      <td>2</td>\n",
              "      <td>5445</td>\n",
              "      <td>3.5</td>\n",
              "      <td>4.794295</td>\n",
              "    </tr>\n",
              "    <tr>\n",
              "      <th>472</th>\n",
              "      <td>3</td>\n",
              "      <td>6378</td>\n",
              "      <td>3.0</td>\n",
              "      <td>4.222838</td>\n",
              "    </tr>\n",
              "    <tr>\n",
              "      <th>827</th>\n",
              "      <td>3</td>\n",
              "      <td>109374</td>\n",
              "      <td>4.0</td>\n",
              "      <td>4.010445</td>\n",
              "    </tr>\n",
              "    <tr>\n",
              "      <th>...</th>\n",
              "      <td>...</td>\n",
              "      <td>...</td>\n",
              "      <td>...</td>\n",
              "      <td>...</td>\n",
              "    </tr>\n",
              "    <tr>\n",
              "      <th>24999710</th>\n",
              "      <td>162538</td>\n",
              "      <td>6942</td>\n",
              "      <td>4.5</td>\n",
              "      <td>2.760990</td>\n",
              "    </tr>\n",
              "    <tr>\n",
              "      <th>24999702</th>\n",
              "      <td>162538</td>\n",
              "      <td>5989</td>\n",
              "      <td>4.5</td>\n",
              "      <td>3.859732</td>\n",
              "    </tr>\n",
              "    <tr>\n",
              "      <th>24999826</th>\n",
              "      <td>162540</td>\n",
              "      <td>169</td>\n",
              "      <td>0.5</td>\n",
              "      <td>2.262773</td>\n",
              "    </tr>\n",
              "    <tr>\n",
              "      <th>24999928</th>\n",
              "      <td>162541</td>\n",
              "      <td>344</td>\n",
              "      <td>0.5</td>\n",
              "      <td>2.692252</td>\n",
              "    </tr>\n",
              "    <tr>\n",
              "      <th>24999968</th>\n",
              "      <td>162541</td>\n",
              "      <td>1230</td>\n",
              "      <td>3.5</td>\n",
              "      <td>5.000000</td>\n",
              "    </tr>\n",
              "  </tbody>\n",
              "</table>\n",
              "<p>226842 rows × 4 columns</p>\n",
              "</div>"
            ],
            "text/plain": [
              "          userId  movieId  rating      pred\n",
              "56             1     8154     5.0  3.815021\n",
              "83             2      364     4.5  3.422144\n",
              "209            2     5445     3.5  4.794295\n",
              "472            3     6378     3.0  4.222838\n",
              "827            3   109374     4.0  4.010445\n",
              "...          ...      ...     ...       ...\n",
              "24999710  162538     6942     4.5  2.760990\n",
              "24999702  162538     5989     4.5  3.859732\n",
              "24999826  162540      169     0.5  2.262773\n",
              "24999928  162541      344     0.5  2.692252\n",
              "24999968  162541     1230     3.5  5.000000\n",
              "\n",
              "[226842 rows x 4 columns]"
            ]
          },
          "metadata": {
            "tags": []
          },
          "execution_count": 19
        }
      ]
    },
    {
      "cell_type": "markdown",
      "metadata": {
        "id": "xnrURSa93jOS"
      },
      "source": [
        "Calculate RMSE (Root mean square error)"
      ]
    },
    {
      "cell_type": "code",
      "metadata": {
        "colab": {
          "base_uri": "https://localhost:8080/",
          "height": 561
        },
        "id": "rKqkOE21bvyy",
        "outputId": "fa343f31-932b-4f74-91c3-2a10f93ecdd9"
      },
      "source": [
        "test['error'] = abs(test['rating'] - test['pred'])\n",
        "mse = (test['error'] ** 2).sum() / len(test)\n",
        "rmse = np.sqrt(mse)\n",
        "print(\"RMSE=\", rmse)"
      ],
      "execution_count": null,
      "outputs": [
        {
          "output_type": "error",
          "ename": "KeyError",
          "evalue": "ignored",
          "traceback": [
            "\u001b[0;31m---------------------------------------------------------------------------\u001b[0m",
            "\u001b[0;31mKeyError\u001b[0m                                  Traceback (most recent call last)",
            "\u001b[0;32m/usr/local/lib/python3.7/dist-packages/pandas/core/indexes/base.py\u001b[0m in \u001b[0;36mget_loc\u001b[0;34m(self, key, method, tolerance)\u001b[0m\n\u001b[1;32m   2897\u001b[0m             \u001b[0;32mtry\u001b[0m\u001b[0;34m:\u001b[0m\u001b[0;34m\u001b[0m\u001b[0;34m\u001b[0m\u001b[0m\n\u001b[0;32m-> 2898\u001b[0;31m                 \u001b[0;32mreturn\u001b[0m \u001b[0mself\u001b[0m\u001b[0;34m.\u001b[0m\u001b[0m_engine\u001b[0m\u001b[0;34m.\u001b[0m\u001b[0mget_loc\u001b[0m\u001b[0;34m(\u001b[0m\u001b[0mcasted_key\u001b[0m\u001b[0;34m)\u001b[0m\u001b[0;34m\u001b[0m\u001b[0;34m\u001b[0m\u001b[0m\n\u001b[0m\u001b[1;32m   2899\u001b[0m             \u001b[0;32mexcept\u001b[0m \u001b[0mKeyError\u001b[0m \u001b[0;32mas\u001b[0m \u001b[0merr\u001b[0m\u001b[0;34m:\u001b[0m\u001b[0;34m\u001b[0m\u001b[0;34m\u001b[0m\u001b[0m\n",
            "\u001b[0;32mpandas/_libs/index.pyx\u001b[0m in \u001b[0;36mpandas._libs.index.IndexEngine.get_loc\u001b[0;34m()\u001b[0m\n",
            "\u001b[0;32mpandas/_libs/index.pyx\u001b[0m in \u001b[0;36mpandas._libs.index.IndexEngine.get_loc\u001b[0;34m()\u001b[0m\n",
            "\u001b[0;32mpandas/_libs/hashtable_class_helper.pxi\u001b[0m in \u001b[0;36mpandas._libs.hashtable.PyObjectHashTable.get_item\u001b[0;34m()\u001b[0m\n",
            "\u001b[0;32mpandas/_libs/hashtable_class_helper.pxi\u001b[0m in \u001b[0;36mpandas._libs.hashtable.PyObjectHashTable.get_item\u001b[0;34m()\u001b[0m\n",
            "\u001b[0;31mKeyError\u001b[0m: 'pred'",
            "\nThe above exception was the direct cause of the following exception:\n",
            "\u001b[0;31mKeyError\u001b[0m                                  Traceback (most recent call last)",
            "\u001b[0;32m<ipython-input-18-d81df3a0e2aa>\u001b[0m in \u001b[0;36m<module>\u001b[0;34m()\u001b[0m\n\u001b[0;32m----> 1\u001b[0;31m \u001b[0mtest\u001b[0m\u001b[0;34m[\u001b[0m\u001b[0;34m'error'\u001b[0m\u001b[0;34m]\u001b[0m \u001b[0;34m=\u001b[0m \u001b[0mabs\u001b[0m\u001b[0;34m(\u001b[0m\u001b[0mtest\u001b[0m\u001b[0;34m[\u001b[0m\u001b[0;34m'rating'\u001b[0m\u001b[0;34m]\u001b[0m \u001b[0;34m-\u001b[0m \u001b[0mtest\u001b[0m\u001b[0;34m[\u001b[0m\u001b[0;34m'pred'\u001b[0m\u001b[0;34m]\u001b[0m\u001b[0;34m)\u001b[0m\u001b[0;34m\u001b[0m\u001b[0;34m\u001b[0m\u001b[0m\n\u001b[0m\u001b[1;32m      2\u001b[0m \u001b[0mmse\u001b[0m \u001b[0;34m=\u001b[0m \u001b[0;34m(\u001b[0m\u001b[0mtest\u001b[0m\u001b[0;34m[\u001b[0m\u001b[0;34m'error'\u001b[0m\u001b[0;34m]\u001b[0m \u001b[0;34m**\u001b[0m \u001b[0;36m2\u001b[0m\u001b[0;34m)\u001b[0m\u001b[0;34m.\u001b[0m\u001b[0msum\u001b[0m\u001b[0;34m(\u001b[0m\u001b[0;34m)\u001b[0m \u001b[0;34m/\u001b[0m \u001b[0mlen\u001b[0m\u001b[0;34m(\u001b[0m\u001b[0mtest\u001b[0m\u001b[0;34m)\u001b[0m\u001b[0;34m\u001b[0m\u001b[0;34m\u001b[0m\u001b[0m\n\u001b[1;32m      3\u001b[0m \u001b[0mrmse\u001b[0m \u001b[0;34m=\u001b[0m \u001b[0mnp\u001b[0m\u001b[0;34m.\u001b[0m\u001b[0msqrt\u001b[0m\u001b[0;34m(\u001b[0m\u001b[0mmse\u001b[0m\u001b[0;34m)\u001b[0m\u001b[0;34m\u001b[0m\u001b[0;34m\u001b[0m\u001b[0m\n\u001b[1;32m      4\u001b[0m \u001b[0mprint\u001b[0m\u001b[0;34m(\u001b[0m\u001b[0;34m\"RMSE=\"\u001b[0m\u001b[0;34m,\u001b[0m \u001b[0mrmse\u001b[0m\u001b[0;34m)\u001b[0m\u001b[0;34m\u001b[0m\u001b[0;34m\u001b[0m\u001b[0m\n",
            "\u001b[0;32m/usr/local/lib/python3.7/dist-packages/pandas/core/frame.py\u001b[0m in \u001b[0;36m__getitem__\u001b[0;34m(self, key)\u001b[0m\n\u001b[1;32m   2904\u001b[0m             \u001b[0;32mif\u001b[0m \u001b[0mself\u001b[0m\u001b[0;34m.\u001b[0m\u001b[0mcolumns\u001b[0m\u001b[0;34m.\u001b[0m\u001b[0mnlevels\u001b[0m \u001b[0;34m>\u001b[0m \u001b[0;36m1\u001b[0m\u001b[0;34m:\u001b[0m\u001b[0;34m\u001b[0m\u001b[0;34m\u001b[0m\u001b[0m\n\u001b[1;32m   2905\u001b[0m                 \u001b[0;32mreturn\u001b[0m \u001b[0mself\u001b[0m\u001b[0;34m.\u001b[0m\u001b[0m_getitem_multilevel\u001b[0m\u001b[0;34m(\u001b[0m\u001b[0mkey\u001b[0m\u001b[0;34m)\u001b[0m\u001b[0;34m\u001b[0m\u001b[0;34m\u001b[0m\u001b[0m\n\u001b[0;32m-> 2906\u001b[0;31m             \u001b[0mindexer\u001b[0m \u001b[0;34m=\u001b[0m \u001b[0mself\u001b[0m\u001b[0;34m.\u001b[0m\u001b[0mcolumns\u001b[0m\u001b[0;34m.\u001b[0m\u001b[0mget_loc\u001b[0m\u001b[0;34m(\u001b[0m\u001b[0mkey\u001b[0m\u001b[0;34m)\u001b[0m\u001b[0;34m\u001b[0m\u001b[0;34m\u001b[0m\u001b[0m\n\u001b[0m\u001b[1;32m   2907\u001b[0m             \u001b[0;32mif\u001b[0m \u001b[0mis_integer\u001b[0m\u001b[0;34m(\u001b[0m\u001b[0mindexer\u001b[0m\u001b[0;34m)\u001b[0m\u001b[0;34m:\u001b[0m\u001b[0;34m\u001b[0m\u001b[0;34m\u001b[0m\u001b[0m\n\u001b[1;32m   2908\u001b[0m                 \u001b[0mindexer\u001b[0m \u001b[0;34m=\u001b[0m \u001b[0;34m[\u001b[0m\u001b[0mindexer\u001b[0m\u001b[0;34m]\u001b[0m\u001b[0;34m\u001b[0m\u001b[0;34m\u001b[0m\u001b[0m\n",
            "\u001b[0;32m/usr/local/lib/python3.7/dist-packages/pandas/core/indexes/base.py\u001b[0m in \u001b[0;36mget_loc\u001b[0;34m(self, key, method, tolerance)\u001b[0m\n\u001b[1;32m   2898\u001b[0m                 \u001b[0;32mreturn\u001b[0m \u001b[0mself\u001b[0m\u001b[0;34m.\u001b[0m\u001b[0m_engine\u001b[0m\u001b[0;34m.\u001b[0m\u001b[0mget_loc\u001b[0m\u001b[0;34m(\u001b[0m\u001b[0mcasted_key\u001b[0m\u001b[0;34m)\u001b[0m\u001b[0;34m\u001b[0m\u001b[0;34m\u001b[0m\u001b[0m\n\u001b[1;32m   2899\u001b[0m             \u001b[0;32mexcept\u001b[0m \u001b[0mKeyError\u001b[0m \u001b[0;32mas\u001b[0m \u001b[0merr\u001b[0m\u001b[0;34m:\u001b[0m\u001b[0;34m\u001b[0m\u001b[0;34m\u001b[0m\u001b[0m\n\u001b[0;32m-> 2900\u001b[0;31m                 \u001b[0;32mraise\u001b[0m \u001b[0mKeyError\u001b[0m\u001b[0;34m(\u001b[0m\u001b[0mkey\u001b[0m\u001b[0;34m)\u001b[0m \u001b[0;32mfrom\u001b[0m \u001b[0merr\u001b[0m\u001b[0;34m\u001b[0m\u001b[0;34m\u001b[0m\u001b[0m\n\u001b[0m\u001b[1;32m   2901\u001b[0m \u001b[0;34m\u001b[0m\u001b[0m\n\u001b[1;32m   2902\u001b[0m         \u001b[0;32mif\u001b[0m \u001b[0mtolerance\u001b[0m \u001b[0;32mis\u001b[0m \u001b[0;32mnot\u001b[0m \u001b[0;32mNone\u001b[0m\u001b[0;34m:\u001b[0m\u001b[0;34m\u001b[0m\u001b[0;34m\u001b[0m\u001b[0m\n",
            "\u001b[0;31mKeyError\u001b[0m: 'pred'"
          ]
        }
      ]
    },
    {
      "cell_type": "code",
      "metadata": {
        "colab": {
          "base_uri": "https://localhost:8080/",
          "height": 359
        },
        "id": "UFzZbrH5MMPp",
        "outputId": "c7434124-38bd-4f9d-ffda-6122f7bc8923"
      },
      "source": [
        "test.sample(10)"
      ],
      "execution_count": null,
      "outputs": [
        {
          "output_type": "execute_result",
          "data": {
            "text/html": [
              "<div>\n",
              "<style scoped>\n",
              "    .dataframe tbody tr th:only-of-type {\n",
              "        vertical-align: middle;\n",
              "    }\n",
              "\n",
              "    .dataframe tbody tr th {\n",
              "        vertical-align: top;\n",
              "    }\n",
              "\n",
              "    .dataframe thead th {\n",
              "        text-align: right;\n",
              "    }\n",
              "</style>\n",
              "<table border=\"1\" class=\"dataframe\">\n",
              "  <thead>\n",
              "    <tr style=\"text-align: right;\">\n",
              "      <th></th>\n",
              "      <th>userId</th>\n",
              "      <th>movieId</th>\n",
              "      <th>rating</th>\n",
              "      <th>pred</th>\n",
              "      <th>error</th>\n",
              "    </tr>\n",
              "  </thead>\n",
              "  <tbody>\n",
              "    <tr>\n",
              "      <th>12906584</th>\n",
              "      <td>83515</td>\n",
              "      <td>586</td>\n",
              "      <td>3.0</td>\n",
              "      <td>2.737298</td>\n",
              "      <td>0.262702</td>\n",
              "    </tr>\n",
              "    <tr>\n",
              "      <th>15170983</th>\n",
              "      <td>98321</td>\n",
              "      <td>3156</td>\n",
              "      <td>3.0</td>\n",
              "      <td>3.612797</td>\n",
              "      <td>0.612797</td>\n",
              "    </tr>\n",
              "    <tr>\n",
              "      <th>15241028</th>\n",
              "      <td>98728</td>\n",
              "      <td>2804</td>\n",
              "      <td>5.0</td>\n",
              "      <td>0.995071</td>\n",
              "      <td>4.004929</td>\n",
              "    </tr>\n",
              "    <tr>\n",
              "      <th>8485625</th>\n",
              "      <td>55241</td>\n",
              "      <td>551</td>\n",
              "      <td>4.5</td>\n",
              "      <td>3.731189</td>\n",
              "      <td>0.768811</td>\n",
              "    </tr>\n",
              "    <tr>\n",
              "      <th>24675877</th>\n",
              "      <td>160338</td>\n",
              "      <td>5378</td>\n",
              "      <td>3.5</td>\n",
              "      <td>3.209797</td>\n",
              "      <td>0.290203</td>\n",
              "    </tr>\n",
              "    <tr>\n",
              "      <th>739039</th>\n",
              "      <td>5043</td>\n",
              "      <td>1580</td>\n",
              "      <td>4.0</td>\n",
              "      <td>3.906714</td>\n",
              "      <td>0.093286</td>\n",
              "    </tr>\n",
              "    <tr>\n",
              "      <th>2673955</th>\n",
              "      <td>17774</td>\n",
              "      <td>2109</td>\n",
              "      <td>4.0</td>\n",
              "      <td>2.681108</td>\n",
              "      <td>1.318892</td>\n",
              "    </tr>\n",
              "    <tr>\n",
              "      <th>11945065</th>\n",
              "      <td>77506</td>\n",
              "      <td>26587</td>\n",
              "      <td>3.0</td>\n",
              "      <td>3.411660</td>\n",
              "      <td>0.411660</td>\n",
              "    </tr>\n",
              "    <tr>\n",
              "      <th>17910623</th>\n",
              "      <td>116111</td>\n",
              "      <td>599</td>\n",
              "      <td>4.0</td>\n",
              "      <td>4.921876</td>\n",
              "      <td>0.921876</td>\n",
              "    </tr>\n",
              "    <tr>\n",
              "      <th>23415547</th>\n",
              "      <td>152013</td>\n",
              "      <td>1610</td>\n",
              "      <td>3.5</td>\n",
              "      <td>3.443559</td>\n",
              "      <td>0.056441</td>\n",
              "    </tr>\n",
              "  </tbody>\n",
              "</table>\n",
              "</div>"
            ],
            "text/plain": [
              "          userId  movieId  rating      pred     error\n",
              "12906584   83515      586     3.0  2.737298  0.262702\n",
              "15170983   98321     3156     3.0  3.612797  0.612797\n",
              "15241028   98728     2804     5.0  0.995071  4.004929\n",
              "8485625    55241      551     4.5  3.731189  0.768811\n",
              "24675877  160338     5378     3.5  3.209797  0.290203\n",
              "739039      5043     1580     4.0  3.906714  0.093286\n",
              "2673955    17774     2109     4.0  2.681108  1.318892\n",
              "11945065   77506    26587     3.0  3.411660  0.411660\n",
              "17910623  116111      599     4.0  4.921876  0.921876\n",
              "23415547  152013     1610     3.5  3.443559  0.056441"
            ]
          },
          "metadata": {
            "tags": []
          },
          "execution_count": 103
        }
      ]
    },
    {
      "cell_type": "code",
      "metadata": {
        "colab": {
          "base_uri": "https://localhost:8080/",
          "height": 315
        },
        "id": "DUmNrSreNFHJ",
        "outputId": "e0fcf3d6-0f58-4541-9cb3-3cb15c1644ee"
      },
      "source": [
        "# plot error of test set\n",
        "ax = test['error'] \\\n",
        "    .sort_values(ascending=False) \\\n",
        "    .reset_index(drop=True) \\\n",
        "    .plot(\n",
        "        title='Error of test set',\n",
        "        fontsize=12\n",
        "    )\n",
        "ax.set_xlabel(\"Rating Id (sorted)\")\n",
        "# ax.axhline(y=threshold, color='r')\n",
        "ax.set_ylabel(\"Error\")"
      ],
      "execution_count": null,
      "outputs": [
        {
          "output_type": "execute_result",
          "data": {
            "text/plain": [
              "Text(0, 0.5, 'Error')"
            ]
          },
          "metadata": {
            "tags": []
          },
          "execution_count": 123
        },
        {
          "output_type": "display_data",
          "data": {
            "image/png": "[encoded data removed]",
            "text/plain": [
              "<Figure size 432x288 with 1 Axes>"
            ]
          },
          "metadata": {
            "tags": [],
            "needs_background": "light"
          }
        }
      ]
    },
    {
      "cell_type": "code",
      "metadata": {
        "colab": {
          "base_uri": "https://localhost:8080/"
        },
        "id": "pd8s_DbpRjHn",
        "outputId": "5501d95f-415d-4b8a-c46a-b27ed32ed286"
      },
      "source": [
        "test['error'].quantile(np.arange(1, 0, -0.1))"
      ],
      "execution_count": null,
      "outputs": [
        {
          "output_type": "execute_result",
          "data": {
            "text/plain": [
              "1.0    4.500000\n",
              "0.9    1.679308\n",
              "0.8    1.142590\n",
              "0.7    0.939310\n",
              "0.6    0.734554\n",
              "0.5    0.543448\n",
              "0.4    0.409863\n",
              "0.3    0.271077\n",
              "0.2    0.147298\n",
              "0.1    0.054863\n",
              "Name: error, dtype: float64"
            ]
          },
          "metadata": {
            "tags": []
          },
          "execution_count": 124
        }
      ]
    },
    {
      "cell_type": "markdown",
      "metadata": {
        "id": "cIF6NvzJQ4qZ"
      },
      "source": [
        "## Run with different knn values"
      ]
    },
    {
      "cell_type": "code",
      "metadata": {
        "id": "OTpsttEHQ_WB"
      },
      "source": [
        "# Note that these code may take a lot of time\n",
        "RMSEs = []\n",
        "for knn in range(1, 10, 1):\n",
        "  test['pred'] = test.apply(lambda row : predict(row.userId, row.movieId, knn), axis = 1)\n",
        "  test['mse'] = (test['rating'] - test['pred']) ** 2\n",
        "  mse = test['mse'].sum()/len(test)\n",
        "  rmse = np.sqrt(mse)\n",
        "  RMSEs.append([knn, rmse])"
      ],
      "execution_count": null,
      "outputs": []
    },
    {
      "cell_type": "code",
      "metadata": {
        "id": "Z-G2HDnfzHNW"
      },
      "source": [
        "RMSEs"
      ],
      "execution_count": null,
      "outputs": []
    },
    {
      "cell_type": "code",
      "metadata": {
        "colab": {
          "base_uri": "https://localhost:8080/",
          "height": 297
        },
        "id": "Bxaxgd-X0V5o",
        "outputId": "b804a9ad-0845-483c-8540-3e1bd5717a35"
      },
      "source": [
        "RMSEs = np.array(RMSEs)\n",
        "plt.plot(RMSEs[:,0], RMSEs[:,1])\n",
        "plt.xlabel(\"knn\")\n",
        "plt.ylabel(\"RMSE\")"
      ],
      "execution_count": null,
      "outputs": [
        {
          "output_type": "execute_result",
          "data": {
            "text/plain": [
              "Text(0, 0.5, 'RMSE')"
            ]
          },
          "metadata": {
            "tags": []
          },
          "execution_count": 65
        },
        {
          "output_type": "display_data",
          "data": {
            "image/png": "[encoded data removed]",
            "text/plain": [
              "<Figure size 432x288 with 1 Axes>"
            ]
          },
          "metadata": {
            "tags": [],
            "needs_background": "light"
          }
        }
      ]
    }
  ]
}